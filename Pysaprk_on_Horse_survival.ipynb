{
  "nbformat": 4,
  "nbformat_minor": 0,
  "metadata": {
    "colab": {
      "name": "Pysaprk on Horse survival.ipynb",
      "provenance": [],
      "collapsed_sections": []
    },
    "kernelspec": {
      "name": "python3",
      "display_name": "Python 3"
    },
    "language_info": {
      "name": "python"
    }
  },
  "cells": [
    {
      "cell_type": "code",
      "execution_count": 39,
      "metadata": {
        "colab": {
          "base_uri": "https://localhost:8080/"
        },
        "id": "R3msAfZpkXDy",
        "outputId": "7c6fd49e-e2f9-4ffc-ce33-5ff497ca8882"
      },
      "outputs": [
        {
          "output_type": "stream",
          "name": "stdout",
          "text": [
            "Looking in indexes: https://pypi.org/simple, https://us-python.pkg.dev/colab-wheels/public/simple/\n",
            "Requirement already satisfied: pyspark in /usr/local/lib/python3.7/dist-packages (3.3.0)\n",
            "Requirement already satisfied: py4j==0.10.9.5 in /usr/local/lib/python3.7/dist-packages (from pyspark) (0.10.9.5)\n"
          ]
        }
      ],
      "source": [
        "!pip install pyspark"
      ]
    },
    {
      "cell_type": "code",
      "source": [
        "from pyspark.sql import SparkSession"
      ],
      "metadata": {
        "id": "UCJEeJNlk0Ac"
      },
      "execution_count": 40,
      "outputs": []
    },
    {
      "cell_type": "code",
      "source": [
        "spark = SparkSession.builder.appName('Pyspark').getOrCreate()"
      ],
      "metadata": {
        "id": "-I9qnX8ZlCGN"
      },
      "execution_count": 41,
      "outputs": []
    },
    {
      "cell_type": "code",
      "source": [
        "spark"
      ],
      "metadata": {
        "colab": {
          "base_uri": "https://localhost:8080/",
          "height": 216
        },
        "id": "t3LszzXmlQ22",
        "outputId": "41c480d2-4294-4573-88b9-818991f46dae"
      },
      "execution_count": 42,
      "outputs": [
        {
          "output_type": "execute_result",
          "data": {
            "text/plain": [
              "<pyspark.sql.session.SparkSession at 0x7fc92a70a590>"
            ],
            "text/html": [
              "\n",
              "            <div>\n",
              "                <p><b>SparkSession - in-memory</b></p>\n",
              "                \n",
              "        <div>\n",
              "            <p><b>SparkContext</b></p>\n",
              "\n",
              "            <p><a href=\"http://98d5e0c104a0:4040\">Spark UI</a></p>\n",
              "\n",
              "            <dl>\n",
              "              <dt>Version</dt>\n",
              "                <dd><code>v3.3.0</code></dd>\n",
              "              <dt>Master</dt>\n",
              "                <dd><code>local[*]</code></dd>\n",
              "              <dt>AppName</dt>\n",
              "                <dd><code>Pyspark</code></dd>\n",
              "            </dl>\n",
              "        </div>\n",
              "        \n",
              "            </div>\n",
              "        "
            ]
          },
          "metadata": {},
          "execution_count": 42
        }
      ]
    },
    {
      "cell_type": "code",
      "source": [
        "df = spark.read.csv('/content/horse.csv',header=True,inferSchema=True)"
      ],
      "metadata": {
        "id": "Yj7_vcg4lUIH"
      },
      "execution_count": 43,
      "outputs": []
    },
    {
      "cell_type": "markdown",
      "source": [
        "Display top 3 rows"
      ],
      "metadata": {
        "id": "Ir9W0c8mmB9O"
      }
    },
    {
      "cell_type": "code",
      "source": [
        "df.show(3)"
      ],
      "metadata": {
        "colab": {
          "base_uri": "https://localhost:8080/"
        },
        "id": "wbObtuvold1h",
        "outputId": "087af089-0221-4916-9d6f-efbf33509026"
      },
      "execution_count": 44,
      "outputs": [
        {
          "output_type": "stream",
          "name": "stdout",
          "text": [
            "+-------+-----+---------------+-----------+-----+----------------+-------------------+----------------+---------------+---------------------+------------+-----------+--------------------+----------------+------------------+---------------------+-----------------+-------------+------------------+-------------+-----------------+--------------+----------+---------------+--------+--------+--------+-------+\n",
            "|surgery|  age|hospital_number|rectal_temp|pulse|respiratory_rate|temp_of_extremities|peripheral_pulse|mucous_membrane|capillary_refill_time|        pain|peristalsis|abdominal_distention|nasogastric_tube|nasogastric_reflux|nasogastric_reflux_ph|rectal_exam_feces|      abdomen|packed_cell_volume|total_protein|abdomo_appearance|abdomo_protein|   outcome|surgical_lesion|lesion_1|lesion_2|lesion_3|cp_data|\n",
            "+-------+-----+---------------+-----------+-----+----------------+-------------------+----------------+---------------+---------------------+------------+-----------+--------------------+----------------+------------------+---------------------+-----------------+-------------+------------------+-------------+-----------------+--------------+----------+---------------+--------+--------+--------+-------+\n",
            "|     no|adult|         530101|       38.5|   66|              28|               cool|         reduced|             NA|           more_3_sec|extreme_pain|     absent|              severe|              NA|                NA|                   NA|        decreased|distend_large|                45|          8.4|               NA|            NA|      died|             no|   11300|       0|       0|     no|\n",
            "|    yes|adult|         534817|       39.2|   88|              20|                 NA|              NA|  pale_cyanotic|           less_3_sec|   mild_pain|     absent|              slight|              NA|                NA|                   NA|           absent|        other|                50|           85|           cloudy|             2|euthanized|             no|    2208|       0|       0|     no|\n",
            "|     no|adult|         530334|       38.3|   40|              24|             normal|          normal|      pale_pink|           less_3_sec|   mild_pain| hypomotile|                none|              NA|                NA|                   NA|           normal|       normal|                33|          6.7|               NA|            NA|     lived|             no|       0|       0|       0|    yes|\n",
            "+-------+-----+---------------+-----------+-----+----------------+-------------------+----------------+---------------+---------------------+------------+-----------+--------------------+----------------+------------------+---------------------+-----------------+-------------+------------------+-------------+-----------------+--------------+----------+---------------+--------+--------+--------+-------+\n",
            "only showing top 3 rows\n",
            "\n"
          ]
        }
      ]
    },
    {
      "cell_type": "markdown",
      "source": [
        "Display column data type\n"
      ],
      "metadata": {
        "id": "v31gWSBZl8Ii"
      }
    },
    {
      "cell_type": "code",
      "source": [
        "df.printSchema()"
      ],
      "metadata": {
        "colab": {
          "base_uri": "https://localhost:8080/"
        },
        "id": "lz2fFWu3lkCZ",
        "outputId": "1a78fbf1-d4f8-4b9e-c78b-17d6ab247018"
      },
      "execution_count": 45,
      "outputs": [
        {
          "output_type": "stream",
          "name": "stdout",
          "text": [
            "root\n",
            " |-- surgery: string (nullable = true)\n",
            " |-- age: string (nullable = true)\n",
            " |-- hospital_number: integer (nullable = true)\n",
            " |-- rectal_temp: string (nullable = true)\n",
            " |-- pulse: string (nullable = true)\n",
            " |-- respiratory_rate: string (nullable = true)\n",
            " |-- temp_of_extremities: string (nullable = true)\n",
            " |-- peripheral_pulse: string (nullable = true)\n",
            " |-- mucous_membrane: string (nullable = true)\n",
            " |-- capillary_refill_time: string (nullable = true)\n",
            " |-- pain: string (nullable = true)\n",
            " |-- peristalsis: string (nullable = true)\n",
            " |-- abdominal_distention: string (nullable = true)\n",
            " |-- nasogastric_tube: string (nullable = true)\n",
            " |-- nasogastric_reflux: string (nullable = true)\n",
            " |-- nasogastric_reflux_ph: string (nullable = true)\n",
            " |-- rectal_exam_feces: string (nullable = true)\n",
            " |-- abdomen: string (nullable = true)\n",
            " |-- packed_cell_volume: string (nullable = true)\n",
            " |-- total_protein: string (nullable = true)\n",
            " |-- abdomo_appearance: string (nullable = true)\n",
            " |-- abdomo_protein: string (nullable = true)\n",
            " |-- outcome: string (nullable = true)\n",
            " |-- surgical_lesion: string (nullable = true)\n",
            " |-- lesion_1: integer (nullable = true)\n",
            " |-- lesion_2: integer (nullable = true)\n",
            " |-- lesion_3: integer (nullable = true)\n",
            " |-- cp_data: string (nullable = true)\n",
            "\n"
          ]
        }
      ]
    },
    {
      "cell_type": "markdown",
      "source": [
        "Display column names"
      ],
      "metadata": {
        "id": "oY-9_kVfmXZr"
      }
    },
    {
      "cell_type": "code",
      "source": [
        "df.columns"
      ],
      "metadata": {
        "colab": {
          "base_uri": "https://localhost:8080/"
        },
        "id": "RbDSfVBNl3u0",
        "outputId": "7b8daefc-d189-456d-8d1c-9ea700b5ce8f"
      },
      "execution_count": 46,
      "outputs": [
        {
          "output_type": "execute_result",
          "data": {
            "text/plain": [
              "['surgery',\n",
              " 'age',\n",
              " 'hospital_number',\n",
              " 'rectal_temp',\n",
              " 'pulse',\n",
              " 'respiratory_rate',\n",
              " 'temp_of_extremities',\n",
              " 'peripheral_pulse',\n",
              " 'mucous_membrane',\n",
              " 'capillary_refill_time',\n",
              " 'pain',\n",
              " 'peristalsis',\n",
              " 'abdominal_distention',\n",
              " 'nasogastric_tube',\n",
              " 'nasogastric_reflux',\n",
              " 'nasogastric_reflux_ph',\n",
              " 'rectal_exam_feces',\n",
              " 'abdomen',\n",
              " 'packed_cell_volume',\n",
              " 'total_protein',\n",
              " 'abdomo_appearance',\n",
              " 'abdomo_protein',\n",
              " 'outcome',\n",
              " 'surgical_lesion',\n",
              " 'lesion_1',\n",
              " 'lesion_2',\n",
              " 'lesion_3',\n",
              " 'cp_data']"
            ]
          },
          "metadata": {},
          "execution_count": 46
        }
      ]
    },
    {
      "cell_type": "markdown",
      "source": [
        "Count Number of Rows and Columns of the dataset"
      ],
      "metadata": {
        "id": "vzDRPb3_mbPY"
      }
    },
    {
      "cell_type": "code",
      "source": [
        "df.count()"
      ],
      "metadata": {
        "colab": {
          "base_uri": "https://localhost:8080/"
        },
        "id": "OpWOwjS8mUuX",
        "outputId": "9823aeef-0537-4647-fd0f-8ad1d473dfe9"
      },
      "execution_count": 47,
      "outputs": [
        {
          "output_type": "execute_result",
          "data": {
            "text/plain": [
              "299"
            ]
          },
          "metadata": {},
          "execution_count": 47
        }
      ]
    },
    {
      "cell_type": "code",
      "source": [
        "len(df.columns)"
      ],
      "metadata": {
        "colab": {
          "base_uri": "https://localhost:8080/"
        },
        "id": "lQAFoPLwmjfn",
        "outputId": "79826dc0-6634-4282-d8b9-24aae433cccb"
      },
      "execution_count": 48,
      "outputs": [
        {
          "output_type": "execute_result",
          "data": {
            "text/plain": [
              "28"
            ]
          },
          "metadata": {},
          "execution_count": 48
        }
      ]
    },
    {
      "cell_type": "markdown",
      "source": [
        "get overall statistics about the dataset"
      ],
      "metadata": {
        "id": "9bWoU5AxpxsC"
      }
    },
    {
      "cell_type": "code",
      "source": [
        "df.describe().show()"
      ],
      "metadata": {
        "colab": {
          "base_uri": "https://localhost:8080/"
        },
        "id": "7EvKLJofmzwT",
        "outputId": "b78016a4-2e3c-4286-c2d7-0513242d6787"
      },
      "execution_count": 49,
      "outputs": [
        {
          "output_type": "stream",
          "name": "stdout",
          "text": [
            "+-------+-------+-----+------------------+------------------+------------------+------------------+-------------------+----------------+---------------+---------------------+-----------+-----------+--------------------+----------------+------------------+---------------------+-----------------+-------+------------------+-----------------+-----------------+------------------+-------+---------------+------------------+-----------------+------------------+-------+\n",
            "|summary|surgery|  age|   hospital_number|       rectal_temp|             pulse|  respiratory_rate|temp_of_extremities|peripheral_pulse|mucous_membrane|capillary_refill_time|       pain|peristalsis|abdominal_distention|nasogastric_tube|nasogastric_reflux|nasogastric_reflux_ph|rectal_exam_feces|abdomen|packed_cell_volume|    total_protein|abdomo_appearance|    abdomo_protein|outcome|surgical_lesion|          lesion_1|         lesion_2|          lesion_3|cp_data|\n",
            "+-------+-------+-----+------------------+------------------+------------------+------------------+-------------------+----------------+---------------+---------------------+-----------+-----------+--------------------+----------------+------------------+---------------------+-----------------+-------+------------------+-----------------+-----------------+------------------+-------+---------------+------------------+-----------------+------------------+-------+\n",
            "|  count|    299|  299|               299|               299|               299|               299|                299|             299|            299|                  299|        299|        299|                 299|             299|               299|                  299|              299|    299|               299|              299|              299|               299|    299|            299|               299|              299|               299|    299|\n",
            "|   mean|   null| null|1087732.7023411372| 38.16861924686195|              72.0| 30.46058091286307|               null|            null|           null|                  3.0|       null|       null|                null|            null|              null|    4.707547169811321|             null|   null| 46.30740740740741|24.27443609022557|             null|  3.03960396039604|   null|           null|3659.7090301003345|90.52842809364549|7.3879598662207355|   null|\n",
            "| stddev|   null| null|1532031.5818234128|0.7337444096002362|28.646218588429054|17.666101663764632|               null|            null|           null|                  0.0|       null|       null|                null|            null|              null|    1.982311108141956|             null|   null|10.436742570551397|27.36419407922209|             null|1.9679471135130029|   null|           null| 5408.472420667366|650.6371387107165|127.74976847134246|   null|\n",
            "|    min|     no|adult|            518476|              35.4|               100|                10|                 NA|              NA|             NA|                    3|         NA|         NA|                  NA|              NA|                NA|                    1|               NA|     NA|                23|             10.2|               NA|               0.1|   died|             no|                 0|                0|                 0|     no|\n",
            "|    max|    yes|young|           5305629|                NA|                NA|                NA|               warm|         reduced|      pale_pink|           more_3_sec|severe_pain|     normal|              slight|          slight|              none|                   NA|           normal|  other|                NA|               NA|    serosanguious|                NA|  lived|            yes|             41110|             7111|              2209|    yes|\n",
            "+-------+-------+-----+------------------+------------------+------------------+------------------+-------------------+----------------+---------------+---------------------+-----------+-----------+--------------------+----------------+------------------+---------------------+-----------------+-------+------------------+-----------------+-----------------+------------------+-------+---------------+------------------+-----------------+------------------+-------+\n",
            "\n"
          ]
        }
      ]
    },
    {
      "cell_type": "markdown",
      "source": [
        "Find Unique Values available in the Outcome column"
      ],
      "metadata": {
        "id": "hYfVltlGqEaQ"
      }
    },
    {
      "cell_type": "code",
      "source": [
        "df.columns"
      ],
      "metadata": {
        "colab": {
          "base_uri": "https://localhost:8080/"
        },
        "id": "YqMlQX1Lp7ej",
        "outputId": "4382839f-9c97-4a8e-b68a-ae8243e24513"
      },
      "execution_count": 50,
      "outputs": [
        {
          "output_type": "execute_result",
          "data": {
            "text/plain": [
              "['surgery',\n",
              " 'age',\n",
              " 'hospital_number',\n",
              " 'rectal_temp',\n",
              " 'pulse',\n",
              " 'respiratory_rate',\n",
              " 'temp_of_extremities',\n",
              " 'peripheral_pulse',\n",
              " 'mucous_membrane',\n",
              " 'capillary_refill_time',\n",
              " 'pain',\n",
              " 'peristalsis',\n",
              " 'abdominal_distention',\n",
              " 'nasogastric_tube',\n",
              " 'nasogastric_reflux',\n",
              " 'nasogastric_reflux_ph',\n",
              " 'rectal_exam_feces',\n",
              " 'abdomen',\n",
              " 'packed_cell_volume',\n",
              " 'total_protein',\n",
              " 'abdomo_appearance',\n",
              " 'abdomo_protein',\n",
              " 'outcome',\n",
              " 'surgical_lesion',\n",
              " 'lesion_1',\n",
              " 'lesion_2',\n",
              " 'lesion_3',\n",
              " 'cp_data']"
            ]
          },
          "metadata": {},
          "execution_count": 50
        }
      ]
    },
    {
      "cell_type": "code",
      "source": [
        "\n",
        "df.toPandas()['outcome'].unique()"
      ],
      "metadata": {
        "colab": {
          "base_uri": "https://localhost:8080/"
        },
        "id": "-jQ28r-4qQd9",
        "outputId": "cabd4f3a-69fb-4396-ab05-ac692eabaa70"
      },
      "execution_count": 51,
      "outputs": [
        {
          "output_type": "execute_result",
          "data": {
            "text/plain": [
              "array(['died', 'euthanized', 'lived'], dtype=object)"
            ]
          },
          "metadata": {},
          "execution_count": 51
        }
      ]
    },
    {
      "cell_type": "markdown",
      "source": [
        "Find the Total number of Unique values available in the Gender column"
      ],
      "metadata": {
        "id": "yuEa0x6rqsDC"
      }
    },
    {
      "cell_type": "code",
      "source": [
        "len(df.toPandas()['outcome'].unique())"
      ],
      "metadata": {
        "colab": {
          "base_uri": "https://localhost:8080/"
        },
        "id": "FrFIiLirqX7I",
        "outputId": "e7b4c88a-7e3f-4d1a-a03f-700c49c640ab"
      },
      "execution_count": 52,
      "outputs": [
        {
          "output_type": "execute_result",
          "data": {
            "text/plain": [
              "3"
            ]
          },
          "metadata": {},
          "execution_count": 52
        }
      ]
    },
    {
      "cell_type": "markdown",
      "source": [
        "how to select single column"
      ],
      "metadata": {
        "id": "JJmf2aBQrEjU"
      }
    },
    {
      "cell_type": "code",
      "source": [
        "df.select('outcome').show(5)"
      ],
      "metadata": {
        "colab": {
          "base_uri": "https://localhost:8080/"
        },
        "id": "SI5yBbT1rBJN",
        "outputId": "5a6bd3b7-7213-4e24-ac9b-13c979ed8885"
      },
      "execution_count": 53,
      "outputs": [
        {
          "output_type": "stream",
          "name": "stdout",
          "text": [
            "+----------+\n",
            "|   outcome|\n",
            "+----------+\n",
            "|      died|\n",
            "|euthanized|\n",
            "|     lived|\n",
            "|      died|\n",
            "|      died|\n",
            "+----------+\n",
            "only showing top 5 rows\n",
            "\n"
          ]
        }
      ]
    },
    {
      "cell_type": "markdown",
      "source": [
        "How to select multiple column"
      ],
      "metadata": {
        "id": "SztmQF9yrJLX"
      }
    },
    {
      "cell_type": "code",
      "source": [
        "df.select(['age', 'outcome']).show(3)"
      ],
      "metadata": {
        "colab": {
          "base_uri": "https://localhost:8080/"
        },
        "id": "Fj0VM6pxrSI_",
        "outputId": "0f865b9f-c55f-46fe-a536-8fb7c6464967"
      },
      "execution_count": 54,
      "outputs": [
        {
          "output_type": "stream",
          "name": "stdout",
          "text": [
            "+-----+----------+\n",
            "|  age|   outcome|\n",
            "+-----+----------+\n",
            "|adult|      died|\n",
            "|adult|euthanized|\n",
            "|adult|     lived|\n",
            "+-----+----------+\n",
            "only showing top 3 rows\n",
            "\n"
          ]
        }
      ]
    },
    {
      "cell_type": "markdown",
      "source": [
        "Create new Column with pulse+1 and also update the existing dataframe"
      ],
      "metadata": {
        "id": "GLLHzRe1r8ps"
      }
    },
    {
      "cell_type": "code",
      "source": [
        "df = df.withColumn('New_pulse',df.pulse+1)"
      ],
      "metadata": {
        "id": "8oUF4WnRsFvz"
      },
      "execution_count": 55,
      "outputs": []
    },
    {
      "cell_type": "markdown",
      "source": [
        "Rename Age column with horse_age"
      ],
      "metadata": {
        "id": "_Lm7m8xptSHJ"
      }
    },
    {
      "cell_type": "code",
      "source": [
        "df = df.withColumnRenamed('age', 'horse_age')"
      ],
      "metadata": {
        "id": "Z1cs3B9as9Af"
      },
      "execution_count": 56,
      "outputs": []
    },
    {
      "cell_type": "code",
      "source": [
        "df.show(2)"
      ],
      "metadata": {
        "colab": {
          "base_uri": "https://localhost:8080/"
        },
        "id": "_7PuunN2tohY",
        "outputId": "8ebd0479-9549-40d9-9b1a-b92de4e533aa"
      },
      "execution_count": 57,
      "outputs": [
        {
          "output_type": "stream",
          "name": "stdout",
          "text": [
            "+-------+---------+---------------+-----------+-----+----------------+-------------------+----------------+---------------+---------------------+------------+-----------+--------------------+----------------+------------------+---------------------+-----------------+-------------+------------------+-------------+-----------------+--------------+----------+---------------+--------+--------+--------+-------+---------+\n",
            "|surgery|horse_age|hospital_number|rectal_temp|pulse|respiratory_rate|temp_of_extremities|peripheral_pulse|mucous_membrane|capillary_refill_time|        pain|peristalsis|abdominal_distention|nasogastric_tube|nasogastric_reflux|nasogastric_reflux_ph|rectal_exam_feces|      abdomen|packed_cell_volume|total_protein|abdomo_appearance|abdomo_protein|   outcome|surgical_lesion|lesion_1|lesion_2|lesion_3|cp_data|New_pulse|\n",
            "+-------+---------+---------------+-----------+-----+----------------+-------------------+----------------+---------------+---------------------+------------+-----------+--------------------+----------------+------------------+---------------------+-----------------+-------------+------------------+-------------+-----------------+--------------+----------+---------------+--------+--------+--------+-------+---------+\n",
            "|     no|    adult|         530101|       38.5|   66|              28|               cool|         reduced|             NA|           more_3_sec|extreme_pain|     absent|              severe|              NA|                NA|                   NA|        decreased|distend_large|                45|          8.4|               NA|            NA|      died|             no|   11300|       0|       0|     no|     67.0|\n",
            "|    yes|    adult|         534817|       39.2|   88|              20|                 NA|              NA|  pale_cyanotic|           less_3_sec|   mild_pain|     absent|              slight|              NA|                NA|                   NA|           absent|        other|                50|           85|           cloudy|             2|euthanized|             no|    2208|       0|       0|     no|     89.0|\n",
            "+-------+---------+---------------+-----------+-----+----------------+-------------------+----------------+---------------+---------------------+------------+-----------+--------------------+----------------+------------------+---------------------+-----------------+-------------+------------------+-------------+-----------------+--------------+----------+---------------+--------+--------+--------+-------+---------+\n",
            "only showing top 2 rows\n",
            "\n"
          ]
        }
      ]
    },
    {
      "cell_type": "markdown",
      "source": [
        "display hospital_number having pulse greater than 70"
      ],
      "metadata": {
        "id": "B9NAgMTktxCX"
      }
    },
    {
      "cell_type": "code",
      "source": [
        "df.filter(df['pulse']>70).select('hospital_number').show(4)"
      ],
      "metadata": {
        "colab": {
          "base_uri": "https://localhost:8080/"
        },
        "id": "hqCVmiHDtuOX",
        "outputId": "fc0f3a48-0d95-415f-df26-19143256a6c7"
      },
      "execution_count": 58,
      "outputs": [
        {
          "output_type": "stream",
          "name": "stdout",
          "text": [
            "+---------------+\n",
            "|hospital_number|\n",
            "+---------------+\n",
            "|         534817|\n",
            "|        5290409|\n",
            "|         530255|\n",
            "|         530051|\n",
            "+---------------+\n",
            "only showing top 4 rows\n",
            "\n"
          ]
        }
      ]
    },
    {
      "cell_type": "markdown",
      "source": [
        "dipslay hospital number and age of horses having pulse greater than 70"
      ],
      "metadata": {
        "id": "Ww3qFu0JupuB"
      }
    },
    {
      "cell_type": "code",
      "source": [
        "df.filter(df['pulse']>70).select(['hospital_number', 'horse_age']).show(4)"
      ],
      "metadata": {
        "colab": {
          "base_uri": "https://localhost:8080/"
        },
        "id": "ceC1znwWu1eQ",
        "outputId": "11eb7fa8-e1e2-4929-ba21-01fa60c41950"
      },
      "execution_count": 60,
      "outputs": [
        {
          "output_type": "stream",
          "name": "stdout",
          "text": [
            "+---------------+---------+\n",
            "|hospital_number|horse_age|\n",
            "+---------------+---------+\n",
            "|         534817|    adult|\n",
            "|        5290409|    young|\n",
            "|         530255|    adult|\n",
            "|         530051|    adult|\n",
            "+---------------+---------+\n",
            "only showing top 4 rows\n",
            "\n"
          ]
        }
      ]
    },
    {
      "cell_type": "markdown",
      "source": [
        "Display hospital number having  young horses having pulse greater than 70"
      ],
      "metadata": {
        "id": "iU-JusNyvGC2"
      }
    },
    {
      "cell_type": "code",
      "source": [
        "df.filter((df['pulse']>70) & (df['horse_age'] == 'young')).select('hospital_number').show(5)"
      ],
      "metadata": {
        "colab": {
          "base_uri": "https://localhost:8080/"
        },
        "id": "X1tHQwqvveLd",
        "outputId": "aa34813f-0dd1-4877-f5f2-880f394fa95a"
      },
      "execution_count": 61,
      "outputs": [
        {
          "output_type": "stream",
          "name": "stdout",
          "text": [
            "+---------------+\n",
            "|hospital_number|\n",
            "+---------------+\n",
            "|        5290409|\n",
            "|        5299629|\n",
            "|        5291329|\n",
            "|        5301219|\n",
            "|         534998|\n",
            "+---------------+\n",
            "only showing top 5 rows\n",
            "\n"
          ]
        }
      ]
    },
    {
      "cell_type": "markdown",
      "source": [
        "Display hospital number NOT having  young horses having pulse greater than 70"
      ],
      "metadata": {
        "id": "Bisw9qXcw2hg"
      }
    },
    {
      "cell_type": "code",
      "source": [
        "df.filter((df['pulse']>70) & ~(df['horse_age'] == 'young')).select('hospital_number').show(5)"
      ],
      "metadata": {
        "colab": {
          "base_uri": "https://localhost:8080/"
        },
        "id": "FJIFNnklw4St",
        "outputId": "33876422-b653-495e-c082-84e227f14b57"
      },
      "execution_count": 62,
      "outputs": [
        {
          "output_type": "stream",
          "name": "stdout",
          "text": [
            "+---------------+\n",
            "|hospital_number|\n",
            "+---------------+\n",
            "|         534817|\n",
            "|         530255|\n",
            "|         530051|\n",
            "|         527927|\n",
            "|         534917|\n",
            "+---------------+\n",
            "only showing top 5 rows\n",
            "\n"
          ]
        }
      ]
    },
    {
      "cell_type": "markdown",
      "source": [
        "Display average Pulses of young and adult horses"
      ],
      "metadata": {
        "id": "FrjJHd8XxBj2"
      }
    },
    {
      "cell_type": "code",
      "source": [
        "df.groupby('horse_age').mean().select(['horse_age', 'avg(New_pulse)']).show(5)"
      ],
      "metadata": {
        "colab": {
          "base_uri": "https://localhost:8080/"
        },
        "id": "5gK_1GI6xJ4J",
        "outputId": "c92a2f6d-3284-47f5-e314-d8d4020901d5"
      },
      "execution_count": 65,
      "outputs": [
        {
          "output_type": "stream",
          "name": "stdout",
          "text": [
            "+---------+------------------+\n",
            "|horse_age|    avg(New_pulse)|\n",
            "+---------+------------------+\n",
            "|    adult| 68.53359683794466|\n",
            "|    young|124.36363636363636|\n",
            "+---------+------------------+\n",
            "\n"
          ]
        }
      ]
    },
    {
      "cell_type": "markdown",
      "source": [
        "sort Every Row of the dataset into Descending Order"
      ],
      "metadata": {
        "id": "qIZG9Z9Ty7dy"
      }
    },
    {
      "cell_type": "code",
      "source": [
        "df.orderBy(df['pulse'].desc()).show(5)"
      ],
      "metadata": {
        "colab": {
          "base_uri": "https://localhost:8080/"
        },
        "id": "mOTkuDO-zC0b",
        "outputId": "32280669-4da9-45d5-d5db-c2419428ed4b"
      },
      "execution_count": 66,
      "outputs": [
        {
          "output_type": "stream",
          "name": "stdout",
          "text": [
            "+-------+---------+---------------+-----------+-----+----------------+-------------------+----------------+---------------+---------------------+---------+-----------+--------------------+----------------+------------------+---------------------+-----------------+-------+------------------+-------------+-----------------+--------------+-------+---------------+--------+--------+--------+-------+---------+\n",
            "|surgery|horse_age|hospital_number|rectal_temp|pulse|respiratory_rate|temp_of_extremities|peripheral_pulse|mucous_membrane|capillary_refill_time|     pain|peristalsis|abdominal_distention|nasogastric_tube|nasogastric_reflux|nasogastric_reflux_ph|rectal_exam_feces|abdomen|packed_cell_volume|total_protein|abdomo_appearance|abdomo_protein|outcome|surgical_lesion|lesion_1|lesion_2|lesion_3|cp_data|New_pulse|\n",
            "+-------+---------+---------------+-----------+-----+----------------+-------------------+----------------+---------------+---------------------+---------+-----------+--------------------+----------------+------------------+---------------------+-----------------+-------+------------------+-------------+-----------------+--------------+-------+---------------+--------+--------+--------+-------+---------+\n",
            "|     no|    adult|         528355|         NA|   NA|              NA|               warm|          normal|      pale_pink|           less_3_sec|depressed| hypomotile|              slight|          slight|              none|                   NA|        decreased|   firm|                NA|           NA|               NA|            NA|  lived|             no|       0|       0|       0|     no|     null|\n",
            "|    yes|    adult|        5279442|         NA|   NA|              NA|                 NA|              NA|             NA|                   NA|       NA|         NA|                  NA|              NA|                NA|                   NA|               NA|     NA|                NA|           NA|               NA|            NA|   died|             no|    4300|       0|       0|     no|     null|\n",
            "|    yes|    young|        5292929|         NA|   NA|              NA|                 NA|              NA|             NA|                   NA|       NA|         NA|                  NA|              NA|                NA|                   NA|               NA|     NA|                37|          4.9|               NA|            NA|   died|            yes|   11124|       0|       0|     no|     null|\n",
            "|     no|    adult|         529483|         NA|   NA|              NA|             normal|          normal|      pale_pink|           less_3_sec|    alert| hypomotile|                none|              NA|                NA|                   NA|        increased|  other|                43|          7.7|               NA|            NA|  lived|             no|    3111|       0|       0|     no|     null|\n",
            "|    yes|    adult|         528872|         NA|   NA|              NA|                 NA|              NA|             NA|                   NA|       NA|         NA|                  NA|              NA|                NA|                   NA|               NA|     NA|                24|          6.7|               NA|            NA|  lived|            yes|    3112|       0|       0|     no|     null|\n",
            "+-------+---------+---------------+-----------+-----+----------------+-------------------+----------------+---------------+---------------------+---------+-----------+--------------------+----------------+------------------+---------------------+-----------------+-------+------------------+-------------+-----------------+--------------+-------+---------------+--------+--------+--------+-------+---------+\n",
            "only showing top 5 rows\n",
            "\n"
          ]
        }
      ]
    },
    {
      "cell_type": "markdown",
      "source": [
        "Handling Missing values"
      ],
      "metadata": {
        "id": "km8PLNHMy7G9"
      }
    },
    {
      "cell_type": "code",
      "source": [
        "from pyspark.sql.functions import mean\n"
      ],
      "metadata": {
        "id": "y003nXIPzxPR"
      },
      "execution_count": 67,
      "outputs": []
    },
    {
      "cell_type": "code",
      "source": [
        "mean1 = df.select(mean(df['New_pulse'])).collect()"
      ],
      "metadata": {
        "id": "PMTh7wP00DdK"
      },
      "execution_count": 68,
      "outputs": []
    },
    {
      "cell_type": "code",
      "source": [
        "mean1[0][0]"
      ],
      "metadata": {
        "colab": {
          "base_uri": "https://localhost:8080/"
        },
        "id": "0g-8-yZB0ZKy",
        "outputId": "301c7a7e-fd9c-487c-fe94-c12ffe3cfad7"
      },
      "execution_count": 70,
      "outputs": [
        {
          "output_type": "execute_result",
          "data": {
            "text/plain": [
              "73.0"
            ]
          },
          "metadata": {},
          "execution_count": 70
        }
      ]
    },
    {
      "cell_type": "code",
      "source": [
        "df.fillna(mean1[0][0]).show(5)"
      ],
      "metadata": {
        "colab": {
          "base_uri": "https://localhost:8080/"
        },
        "id": "WlW6XpeN0agl",
        "outputId": "1a8bf744-9093-4839-a383-1e047ec7571e"
      },
      "execution_count": 71,
      "outputs": [
        {
          "output_type": "stream",
          "name": "stdout",
          "text": [
            "+-------+---------+---------------+-----------+-----+----------------+-------------------+----------------+---------------+---------------------+------------+-----------+--------------------+----------------+------------------+---------------------+-----------------+-------------+------------------+-------------+-----------------+--------------+----------+---------------+--------+--------+--------+-------+---------+\n",
            "|surgery|horse_age|hospital_number|rectal_temp|pulse|respiratory_rate|temp_of_extremities|peripheral_pulse|mucous_membrane|capillary_refill_time|        pain|peristalsis|abdominal_distention|nasogastric_tube|nasogastric_reflux|nasogastric_reflux_ph|rectal_exam_feces|      abdomen|packed_cell_volume|total_protein|abdomo_appearance|abdomo_protein|   outcome|surgical_lesion|lesion_1|lesion_2|lesion_3|cp_data|New_pulse|\n",
            "+-------+---------+---------------+-----------+-----+----------------+-------------------+----------------+---------------+---------------------+------------+-----------+--------------------+----------------+------------------+---------------------+-----------------+-------------+------------------+-------------+-----------------+--------------+----------+---------------+--------+--------+--------+-------+---------+\n",
            "|     no|    adult|         530101|       38.5|   66|              28|               cool|         reduced|             NA|           more_3_sec|extreme_pain|     absent|              severe|              NA|                NA|                   NA|        decreased|distend_large|                45|          8.4|               NA|            NA|      died|             no|   11300|       0|       0|     no|     67.0|\n",
            "|    yes|    adult|         534817|       39.2|   88|              20|                 NA|              NA|  pale_cyanotic|           less_3_sec|   mild_pain|     absent|              slight|              NA|                NA|                   NA|           absent|        other|                50|           85|           cloudy|             2|euthanized|             no|    2208|       0|       0|     no|     89.0|\n",
            "|     no|    adult|         530334|       38.3|   40|              24|             normal|          normal|      pale_pink|           less_3_sec|   mild_pain| hypomotile|                none|              NA|                NA|                   NA|           normal|       normal|                33|          6.7|               NA|            NA|     lived|             no|       0|       0|       0|    yes|     41.0|\n",
            "|    yes|    young|        5290409|       39.1|  164|              84|               cold|          normal|  dark_cyanotic|           more_3_sec|   depressed|     absent|              severe|            none|      less_1_liter|                    5|        decreased|           NA|                48|          7.2|    serosanguious|           5.3|      died|            yes|    2208|       0|       0|    yes|    165.0|\n",
            "|     no|    adult|         530255|       37.3|  104|              35|                 NA|              NA|  dark_cyanotic|           more_3_sec|          NA|         NA|                  NA|              NA|                NA|                   NA|               NA|           NA|                74|          7.4|               NA|            NA|      died|             no|    4300|       0|       0|     no|    105.0|\n",
            "+-------+---------+---------------+-----------+-----+----------------+-------------------+----------------+---------------+---------------------+------------+-----------+--------------------+----------------+------------------+---------------------+-----------------+-------------+------------------+-------------+-----------------+--------------+----------+---------------+--------+--------+--------+-------+---------+\n",
            "only showing top 5 rows\n",
            "\n"
          ]
        }
      ]
    },
    {
      "cell_type": "code",
      "source": [
        ""
      ],
      "metadata": {
        "id": "q3ilqeVf3uzd"
      },
      "execution_count": null,
      "outputs": []
    }
  ]
}